{
  "nbformat": 4,
  "nbformat_minor": 0,
  "metadata": {
    "colab": {
      "name": "train.ipynb",
      "provenance": [],
      "collapsed_sections": [],
      "include_colab_link": true
    },
    "kernelspec": {
      "name": "python3",
      "display_name": "Python 3"
    },
    "language_info": {
      "name": "python"
    },
    "accelerator": "GPU"
  },
  "cells": [
    {
      "cell_type": "markdown",
      "metadata": {
        "id": "view-in-github",
        "colab_type": "text"
      },
      "source": [
        "<a href=\"https://colab.research.google.com/github/kevin4787631/Dicoding/blob/main/ML%20Team/train.ipynb\" target=\"_parent\"><img src=\"https://colab.research.google.com/assets/colab-badge.svg\" alt=\"Open In Colab\"/></a>"
      ]
    },
    {
      "cell_type": "markdown",
      "source": [
        "## **Preparing Dataset**"
      ],
      "metadata": {
        "id": "FW3gQj5C8VHj"
      }
    },
    {
      "cell_type": "markdown",
      "source": [
        "Download coco dataset"
      ],
      "metadata": {
        "id": "7QAJKiEZC8si"
      }
    },
    {
      "cell_type": "code",
      "source": [
        "# Download the dataset\n",
        "!wget http://host.robots.ox.ac.uk/pascal/VOC/voc2012/VOCtrainval_11-May-2012.tar"
      ],
      "metadata": {
        "colab": {
          "base_uri": "https://localhost:8080/"
        },
        "id": "LIWs8SRS1qU1",
        "outputId": "6e9054b7-c52e-4177-a7a2-95aa0333a8fe"
      },
      "execution_count": null,
      "outputs": [
        {
          "output_type": "stream",
          "name": "stdout",
          "text": [
            "--2022-05-28 03:08:46--  http://host.robots.ox.ac.uk/pascal/VOC/voc2012/VOCtrainval_11-May-2012.tar\n",
            "Resolving host.robots.ox.ac.uk (host.robots.ox.ac.uk)... 129.67.94.152\n",
            "Connecting to host.robots.ox.ac.uk (host.robots.ox.ac.uk)|129.67.94.152|:80... connected.\n",
            "HTTP request sent, awaiting response... 200 OK\n",
            "Length: 1999639040 (1.9G) [application/x-tar]\n",
            "Saving to: ‘VOCtrainval_11-May-2012.tar’\n",
            "\n",
            "VOCtrainval_11-May- 100%[===================>]   1.86G  36.2MB/s    in 54s     \n",
            "\n",
            "2022-05-28 03:09:40 (35.2 MB/s) - ‘VOCtrainval_11-May-2012.tar’ saved [1999639040/1999639040]\n",
            "\n"
          ]
        }
      ]
    },
    {
      "cell_type": "markdown",
      "source": [
        "Extract the dataset"
      ],
      "metadata": {
        "id": "v28RsBZJDGs7"
      }
    },
    {
      "cell_type": "code",
      "source": [
        "# Extract the dataset\n",
        "!tar xvf VOCtrainval_11-May-2012.tar"
      ],
      "metadata": {
        "id": "O27KUjV811MK"
      },
      "execution_count": null,
      "outputs": []
    },
    {
      "cell_type": "markdown",
      "source": [
        "## **Data Preparation**"
      ],
      "metadata": {
        "id": "xB787mjUDMxz"
      }
    },
    {
      "cell_type": "markdown",
      "source": [
        "Import necessary libraries"
      ],
      "metadata": {
        "id": "pPBHKY1oDO4j"
      }
    },
    {
      "cell_type": "code",
      "source": [
        "import tensorflow as tf\n",
        "import matplotlib.pyplot as plt\n",
        "import numpy as np\n",
        "import os\n",
        "import copy\n",
        "import cv2\n",
        "from xml.etree import ElementTree\n",
        "from google.colab import drive\n",
        "%matplotlib inline"
      ],
      "metadata": {
        "id": "lfG9fC-j18bM"
      },
      "execution_count": null,
      "outputs": []
    },
    {
      "cell_type": "markdown",
      "source": [
        "Mount Google Drive"
      ],
      "metadata": {
        "id": "jGSVPN1UU9F_"
      }
    },
    {
      "cell_type": "code",
      "source": [
        "drive.mount(os.path.join(os.getcwd(), 'gdrive'))"
      ],
      "metadata": {
        "colab": {
          "base_uri": "https://localhost:8080/"
        },
        "id": "MhnvFDLaJ82O",
        "outputId": "29efc9bc-478f-4edc-ba24-752541bb7071"
      },
      "execution_count": null,
      "outputs": [
        {
          "output_type": "stream",
          "name": "stdout",
          "text": [
            "Mounted at /content/gdrive\n"
          ]
        }
      ]
    },
    {
      "cell_type": "markdown",
      "source": [
        "Define necessary constant variable and anchor boxes width and height(based on previous functions using kmeans cluster)"
      ],
      "metadata": {
        "id": "9yoz4q43VLZQ"
      }
    },
    {
      "cell_type": "code",
      "source": [
        "IMAGE_HEIGHT, IMAGE_WIDTH = 416, 416\n",
        "LABELS = ['bicycle', 'bus', 'car', 'motorbike', 'person']\n",
        "GRID_WIDTH, GRID_HEIGHT = 13, 13\n",
        "BATCH_SIZE = 16\n",
        "GROUNDTRUTH_BOX = 20\n",
        "ANCHOR_BOXES = np.array([0.07095013, 0.13790466,\n",
        "                         0.74620075, 0.8126473,\n",
        "                         0.37125614, 0.65841728,\n",
        "                         0.18252735, 0.41417845])\n",
        "BOX = len(ANCHOR_BOXES) // 2"
      ],
      "metadata": {
        "id": "6U5TMZ4IJZrL"
      },
      "execution_count": null,
      "outputs": []
    },
    {
      "cell_type": "markdown",
      "source": [
        "Define functions to procure informations and save into variable"
      ],
      "metadata": {
        "id": "oPzXKwk4DiFi"
      }
    },
    {
      "cell_type": "code",
      "source": [
        "def get_annotation(images_path, annotation_path, labels=[], train_limit=None):\n",
        "  '''Obtaining necessary object annotations in every xml files'''\n",
        "  if not labels: assert False, 'Please input your labels!'\n",
        "\n",
        "  images= []\n",
        "  for annotation in sorted(os.listdir(annotation_path)):\n",
        "    if 'xml' not in annotation: continue\n",
        "    image = {'object': []}\n",
        "    annotation_tree = ElementTree.parse(os.path.join(annotation_path, annotation))\n",
        "\n",
        "    for element in annotation_tree.iter():\n",
        "      if 'filename' in element.tag:\n",
        "        image_path = os.path.join(images_path, element.text)\n",
        "        if not os.path.exists(image_path):\n",
        "            assert False, f'File {image_path} is not found!'\n",
        "        image['filename'] = image_path\n",
        "\n",
        "      if 'width' in element.tag:\n",
        "        image['width'] = int(element.text)\n",
        "\n",
        "      if 'height' in element.tag:\n",
        "        image['height'] = int(element.text)\n",
        "\n",
        "      if 'object' in element.tag:\n",
        "        object = {}\n",
        "        for attribute in list(element):\n",
        "          if 'name' in attribute.tag:\n",
        "            object['name'] = attribute.text\n",
        "            if object['name'] not in labels: break\n",
        "            else: image['object'] += [object]\n",
        "\n",
        "          if 'bndbox' in attribute.tag:\n",
        "            for dimension in list(attribute):\n",
        "              for i in ['xmin', 'ymin', 'xmax', 'ymax']:\n",
        "                if i in dimension.tag:\n",
        "                  object[i] = int(round(float(dimension.text)))\n",
        "                  break\n",
        "    if not not image['object']:\n",
        "      images += [image]\n",
        "\n",
        "  if not (train_limit is None):\n",
        "    train_limit = int(len(images) * train_limit)\n",
        "    np.random.seed(42)\n",
        "    np.random.shuffle(images)\n",
        "    return images[:train_limit], images[train_limit:]\n",
        "  \n",
        "  return images\n",
        "\n",
        "def get_total_labels(annotations):\n",
        "  '''Calculate how many times a label gets iterated'''\n",
        "  total_labels = {}\n",
        "  for image in annotations:\n",
        "    for object in image['object']:\n",
        "      if object['name'] in total_labels:\n",
        "        total_labels[object['name']] += 1\n",
        "      else:\n",
        "        total_labels[object['name']] = 1\n",
        "  return total_labels"
      ],
      "metadata": {
        "id": "T3er4W9J2Sii"
      },
      "execution_count": null,
      "outputs": []
    },
    {
      "cell_type": "markdown",
      "source": [
        "Calling the function to split the data into train and validation dataset"
      ],
      "metadata": {
        "id": "6ttw6UtK-Lgm"
      }
    },
    {
      "cell_type": "code",
      "source": [
        "images_path = os.path.join('VOCdevkit', 'VOC2012', 'JPEGImages')\n",
        "annotation_path = os.path.join('VOCdevkit', 'VOC2012', 'Annotations')\n",
        "\n",
        "# Calling the function and storing all the obtained informations\n",
        "# We set 60% for training and 40% for validation\n",
        "train_images_dict, validation_images_dict = get_annotation(images_path, annotation_path, labels=LABELS, train_limit=0.8)\n",
        "\n",
        "print(f'Number of train images = {len(train_images_dict)}')\n",
        "print(f'Total of train labels = {get_total_labels(train_images_dict)}')\n",
        "\n",
        "print(f'\\nNumber of validation images = {len(validation_images_dict)}')\n",
        "print(f'Total of validation labels = {get_total_labels(validation_images_dict)}')"
      ],
      "metadata": {
        "colab": {
          "base_uri": "https://localhost:8080/"
        },
        "id": "pKFg1r2fDQMu",
        "outputId": "c3bcd169-f5be-46ee-f8c3-1b6ad499cbd5"
      },
      "execution_count": null,
      "outputs": [
        {
          "output_type": "stream",
          "name": "stdout",
          "text": [
            "Number of train images = 8696\n",
            "Total of train labels = {'person': 13905, 'car': 2018, 'motorbike': 655, 'bicycle': 671, 'bus': 545}\n",
            "\n",
            "Number of validation images = 2174\n",
            "Total of validation labels = {'person': 3496, 'bicycle': 166, 'car': 474, 'bus': 140, 'motorbike': 146}\n"
          ]
        }
      ]
    },
    {
      "cell_type": "markdown",
      "source": [
        "Get width and height for every object then resize them with scale 0 to 1"
      ],
      "metadata": {
        "id": "bdCNy9_AEiLV"
      }
    },
    {
      "cell_type": "code",
      "source": [
        "def get_objects_width_height(annotations):\n",
        "  object_width_height = []\n",
        "  for annotation in annotations:\n",
        "    img_width, img_height = float(annotation['width']), float(annotation['height'])\n",
        "    for object in annotation['object']:\n",
        "      object_width = (object['xmax'] - object['xmin']) / img_width\n",
        "      object_height = (object['ymax'] - object['ymin']) / img_height\n",
        "      object_width_height.append([object_width, object_height])\n",
        "  return np.array(object_width_height)"
      ],
      "metadata": {
        "id": "j6GKlfZUY2XW"
      },
      "execution_count": null,
      "outputs": []
    },
    {
      "cell_type": "markdown",
      "source": [
        "Calling the function to get width and height of every object then print one of the result "
      ],
      "metadata": {
        "id": "4i6lfuRqWA0D"
      }
    },
    {
      "cell_type": "code",
      "source": [
        "# TRAIN\n",
        "train_objects_width_height = get_objects_width_height(train_images_dict)\n",
        "print(f'Number of train objects = {train_objects_width_height.shape[0]}')\n",
        "print(f'A sample train object with normalized [width, height] = {train_objects_width_height[0]}')\n",
        "\n",
        "# VALIDATION\n",
        "validation_objects_width_height = get_objects_width_height(validation_images_dict)\n",
        "print(f'\\nNumber of validation objects = {validation_objects_width_height.shape[0]}')\n",
        "print(f'A sample validation object with normalized [width, height] = {validation_objects_width_height[0]}')"
      ],
      "metadata": {
        "colab": {
          "base_uri": "https://localhost:8080/"
        },
        "id": "yJGSDp_tbmov",
        "outputId": "82e46dd0-1b80-4fc4-e362-dfd3bc05fa2b"
      },
      "execution_count": null,
      "outputs": [
        {
          "output_type": "stream",
          "name": "stdout",
          "text": [
            "Number of train objects = 17794\n",
            "A sample train object with normalized [width, height] = [0.99530516 0.794     ]\n",
            "\n",
            "Number of validation objects = 4422\n",
            "A sample validation object with normalized [width, height] = [0.06       0.14933333]\n"
          ]
        }
      ]
    },
    {
      "cell_type": "markdown",
      "source": [
        "Resize and normalize all images"
      ],
      "metadata": {
        "id": "Wj9Z3DObXxXa"
      }
    },
    {
      "cell_type": "code",
      "source": [
        "class ReadImage:\n",
        "  def __init__(self, image_height, image_width):\n",
        "    self.image_height = image_height\n",
        "    self.image_width = image_width\n",
        "  \n",
        "  def fit(self, image_dict):\n",
        "    if not isinstance(image_dict, dict): image_dict = {'filename': image_dict}\n",
        "    \n",
        "    image = cv2.imread(image_dict['filename'])\n",
        "    if image is None: print(f'file {image_dict[\"filename\"]} is not found!')\n",
        "    image = cv2.resize(image, (self.image_height, self.image_width))\n",
        "    image = cv2.cvtColor(image, cv2.COLOR_BGR2RGB)\n",
        "    image = image / 255.\n",
        "\n",
        "    if 'object' in image_dict.keys():\n",
        "      objects_dict = copy.deepcopy(image_dict['object'])\n",
        "\n",
        "      for object_dict in objects_dict:\n",
        "          for attribute in ['xmin', 'xmax', 'ymin', 'ymax']:\n",
        "            if attribute in ['xmin', 'xmax']:\n",
        "              object_dict[attribute] = int(object_dict[attribute] * float(self.image_width) / image.shape[1])\n",
        "              object_dict[attribute] = max(0, min(object_dict[attribute], self.image_width))\n",
        "            else:\n",
        "              object_dict[attribute] = int(object_dict[attribute] * float(self.image_height) / image.shape[0])\n",
        "              object_dict[attribute] = max(0, min(object_dict[attribute], self.image_height))\n",
        "    else:\n",
        "      return image\n",
        "    return image, objects_dict"
      ],
      "metadata": {
        "id": "k5ADOAwdesRj"
      },
      "execution_count": null,
      "outputs": []
    },
    {
      "cell_type": "markdown",
      "source": [
        "Print one of example from train data before resize and normalize"
      ],
      "metadata": {
        "id": "TJyxEkj5X68X"
      }
    },
    {
      "cell_type": "code",
      "source": [
        "# TRAIN\n",
        "print('Before:')\n",
        "display(train_images_dict[5])\n",
        "\n",
        "print('\\nAfter:')\n",
        "readImage = ReadImage(IMAGE_HEIGHT, IMAGE_WIDTH)\n",
        "image, objects_dict = readImage.fit(train_images_dict[5])\n",
        "plt.imshow(image)\n",
        "plt.title(f'Shape of image = {image.shape}')\n",
        "plt.show()\n",
        "display(objects_dict)"
      ],
      "metadata": {
        "colab": {
          "base_uri": "https://localhost:8080/",
          "height": 489
        },
        "id": "9ht0-8bC_-Pn",
        "outputId": "95a1c4a6-2bf3-4a4f-c68e-43ee08af7c8f"
      },
      "execution_count": null,
      "outputs": [
        {
          "output_type": "stream",
          "name": "stdout",
          "text": [
            "Before:\n"
          ]
        },
        {
          "output_type": "display_data",
          "data": {
            "text/plain": [
              "{'filename': 'VOCdevkit/VOC2012/JPEGImages/2011_003567.jpg',\n",
              " 'height': 333,\n",
              " 'object': [{'name': 'person',\n",
              "   'xmax': 500,\n",
              "   'xmin': 245,\n",
              "   'ymax': 333,\n",
              "   'ymin': 37}],\n",
              " 'width': 500}"
            ]
          },
          "metadata": {}
        },
        {
          "output_type": "stream",
          "name": "stdout",
          "text": [
            "\n",
            "After:\n"
          ]
        },
        {
          "output_type": "display_data",
          "data": {
            "text/plain": [
              "<Figure size 432x288 with 1 Axes>"
            ],
            "image/png": "[encoded data removed]"
          },
          "metadata": {
            "needs_background": "light"
          }
        },
        {
          "output_type": "display_data",
          "data": {
            "text/plain": [
              "[{'name': 'person', 'xmax': 416, 'xmin': 245, 'ymax': 333, 'ymin': 37}]"
            ]
          },
          "metadata": {}
        }
      ]
    },
    {
      "cell_type": "markdown",
      "source": [
        "Print one of example from validation data before resize and normalize"
      ],
      "metadata": {
        "id": "7tbQs-NhYH7K"
      }
    },
    {
      "cell_type": "code",
      "source": [
        "# VALIDATION\n",
        "print('Before:')\n",
        "display(validation_images_dict[5])\n",
        "\n",
        "print('\\nAfter:')\n",
        "readImage = ReadImage(IMAGE_HEIGHT, IMAGE_WIDTH)\n",
        "image, objects_dict = readImage.fit(validation_images_dict[5])\n",
        "plt.imshow(image)\n",
        "plt.title(f'Shape of image = {image.shape}')\n",
        "plt.show()\n",
        "display(objects_dict)"
      ],
      "metadata": {
        "id": "0bKMwXAQJyLX",
        "outputId": "21200e0c-bb71-445d-8b28-2d5bf4b612b3",
        "colab": {
          "base_uri": "https://localhost:8080/",
          "height": 455
        }
      },
      "execution_count": null,
      "outputs": [
        {
          "output_type": "stream",
          "name": "stdout",
          "text": [
            "Before:\n"
          ]
        },
        {
          "output_type": "display_data",
          "data": {
            "text/plain": [
              "{'filename': 'VOCdevkit/VOC2012/JPEGImages/2009_003738.jpg',\n",
              " 'height': 375,\n",
              " 'object': [{'name': 'person', 'xmax': 273, 'xmin': 1, 'ymax': 375, 'ymin': 5},\n",
              "  {'name': 'person', 'xmax': 500, 'xmin': 253, 'ymax': 364, 'ymin': 51}],\n",
              " 'width': 500}"
            ]
          },
          "metadata": {}
        },
        {
          "output_type": "stream",
          "name": "stdout",
          "text": [
            "\n",
            "After:\n"
          ]
        },
        {
          "output_type": "display_data",
          "data": {
            "text/plain": [
              "<Figure size 432x288 with 1 Axes>"
            ],
            "image/png": "[encoded data removed]"
          },
          "metadata": {
            "needs_background": "light"
          }
        },
        {
          "output_type": "display_data",
          "data": {
            "text/plain": [
              "[{'name': 'person', 'xmax': 273, 'xmin': 1, 'ymax': 375, 'ymin': 5},\n",
              " {'name': 'person', 'xmax': 416, 'xmin': 253, 'ymax': 364, 'ymin': 51}]"
            ]
          },
          "metadata": {}
        }
      ]
    },
    {
      "cell_type": "markdown",
      "source": [
        "Define function to get the best index by comparing probabilities for each anchor box"
      ],
      "metadata": {
        "id": "sQAs1ZhLYQjs"
      }
    },
    {
      "cell_type": "code",
      "source": [
        "class BoundingBox:\n",
        "  def __init__(self, x_min, y_min, x_max, y_max, confidence=None, labels_probability=None):\n",
        "    self.x_min, self.y_min, self.x_max, self.y_max = x_min, y_min, x_max, y_max\n",
        "    self.confidence = confidence\n",
        "    self.set_label(labels_probability)\n",
        "  \n",
        "  def set_label(self, labels_probability):\n",
        "    self.labels_probability = labels_probability\n",
        "    self.label = np.argmax(self.labels_probability)\n",
        "  \n",
        "  def get_label(self):\n",
        "    return self.label\n",
        "  \n",
        "  def get_highest_label_probability_score(self):\n",
        "    return self.labels_probability[self.label]\n",
        "\n",
        "class AnchorBoxMatching:\n",
        "  def __init__(self, anchors=None):\n",
        "    if not (anchors is None):\n",
        "      self.anchors = [BoundingBox(0, 0, anchors[i], anchors[i + 1]) for i in range(0, len(anchors), 2)]\n",
        "  \n",
        "  def _calculate_intersection(self, box1, box2):\n",
        "    x1_box1, x2_box1 = box1\n",
        "    x1_box2, x2_box2 = box2\n",
        "\n",
        "    if x1_box2 < x1_box1:\n",
        "      if x2_box2 < x1_box1: return 0\n",
        "      else: return min(x2_box1, x2_box2) - x1_box1\n",
        "    else:\n",
        "      if x2_box1 < x1_box2: return 0\n",
        "      else: return min(x2_box1, x2_box2) - x1_box2\n",
        "  \n",
        "  def _calculate_box_area(self, box):\n",
        "    box_width = box.x_max - box.x_min\n",
        "    box_height = box.y_max - box.y_min\n",
        "    return box_width * box_height\n",
        "  \n",
        "  def calculate_iou(self, box1, box2):\n",
        "    intersection_width = self._calculate_intersection([box1.x_min, box1.x_max], [box2.x_min, box2.x_max])\n",
        "    intersection_height = self._calculate_intersection([box1.y_min, box1.y_max], [box2.y_min, box2.y_max])\n",
        "    intersection_area = intersection_width * intersection_height\n",
        "\n",
        "    box1_area = self._calculate_box_area(box1)\n",
        "    box2_area = self._calculate_box_area(box2)\n",
        "    union_area = box1_area + box2_area - intersection_area\n",
        "\n",
        "    return float(intersection_area) / union_area\n",
        "  \n",
        "  def fit(self, box_width, box_height):\n",
        "    matched_anchor, max_iou = -1, -1\n",
        "\n",
        "    for anchor_index in range(len(self.anchors)):\n",
        "      iou = self.calculate_iou(BoundingBox(0, 0, box_width, box_height), self.anchors[anchor_index])\n",
        "      if max_iou < iou: matched_anchor, max_iou = anchor_index, iou\n",
        "\n",
        "    return matched_anchor, max_iou"
      ],
      "metadata": {
        "id": "XeZWO4A3QzUT"
      },
      "execution_count": null,
      "outputs": []
    },
    {
      "cell_type": "markdown",
      "source": [
        "Print the result of an example from determnined values(width: 0.2 and height: 0.6)"
      ],
      "metadata": {
        "id": "lpmXRLcWYrDI"
      }
    },
    {
      "cell_type": "code",
      "source": [
        "# TEST\n",
        "print('Anchor boxes:')\n",
        "index = 0\n",
        "for i in range(0, len(ANCHOR_BOXES), 2):\n",
        "  print(f'\\tindex={index}  width={ANCHOR_BOXES[i]}  height={ANCHOR_BOXES[i + 1]}')\n",
        "  index += 1\n",
        "\n",
        "print('\\nTest class AnchorBoxMatching():')\n",
        "anchor_box_matching = AnchorBoxMatching(ANCHOR_BOXES)\n",
        "box_test_width, box_test_height = 0.2, 0.6\n",
        "box_test_matched_anchor, box_test_iou = anchor_box_matching.fit(box_test_width, box_test_height)\n",
        "print(f'\\tBox: width={box_test_width} height={box_test_height}')\n",
        "print(f'\\tMatched AnchorBox: index={box_test_matched_anchor} iou={box_test_iou}')"
      ],
      "metadata": {
        "colab": {
          "base_uri": "https://localhost:8080/"
        },
        "id": "7N0zYhIQS_Gg",
        "outputId": "0dee8ed2-6ba4-4e38-c240-478ce6bd5023"
      },
      "execution_count": null,
      "outputs": [
        {
          "output_type": "stream",
          "name": "stdout",
          "text": [
            "Anchor boxes:\n",
            "\tindex=0  width=0.07095013  height=0.13790466\n",
            "\tindex=1  width=0.74620075  height=0.8126473\n",
            "\tindex=2  width=0.37125614  height=0.65841728\n",
            "\tindex=3  width=0.18252735  height=0.41417845\n",
            "\n",
            "Test class AnchorBoxMatching():\n",
            "\tBox: width=0.2 height=0.6\n",
            "\tMatched AnchorBox: index=3 iou=0.6299907908800624\n"
          ]
        }
      ]
    },
    {
      "cell_type": "markdown",
      "source": [
        "Resize all images in grid scale(0-13)"
      ],
      "metadata": {
        "id": "oTjFG6fSY-V7"
      }
    },
    {
      "cell_type": "code",
      "source": [
        "def centerxy_gridcellscale_rescaler(object_configuration, image_configuration):\n",
        "  centerx = (object_configuration['xmin'] + object_configuration['xmax']) / 2.\n",
        "  centery = (object_configuration['ymin'] + object_configuration['ymax']) / 2.\n",
        "\n",
        "  rescaled_centerx = (centerx / image_configuration['IMAGE_WIDTH']) * image_configuration['GRID_WIDTH']\n",
        "  rescaled_centery = (centery / image_configuration['IMAGE_HEIGHT']) * image_configuration['GRID_HEIGHT']\n",
        "\n",
        "  return rescaled_centerx, rescaled_centery\n",
        "\n",
        "def widthheight_gridcellscale_rescaler(object_configuration, image_configuration):\n",
        "  width = float(object_configuration['xmax'] - object_configuration['xmin'])\n",
        "  height = float(object_configuration['ymax'] - object_configuration['ymin'])\n",
        "  \n",
        "  rescaled_width = (width / image_configuration['IMAGE_WIDTH']) * image_configuration['GRID_WIDTH']\n",
        "  rescaled_height = (height / image_configuration['IMAGE_HEIGHT']) * image_configuration['GRID_HEIGHT']\n",
        "\n",
        "  return rescaled_width, rescaled_height"
      ],
      "metadata": {
        "id": "l4qQwaLGPEjw"
      },
      "execution_count": null,
      "outputs": []
    },
    {
      "cell_type": "markdown",
      "source": [
        "Print the example after resize using determined values"
      ],
      "metadata": {
        "id": "opBt0LFYZHZZ"
      }
    },
    {
      "cell_type": "code",
      "source": [
        "# TEST\n",
        "print('Test for centerxy_gridcellscale_rescaler() and widthheight_gridcellscale_rescaler():')\n",
        "test_image_configuration = {'IMAGE_WIDTH': 416, 'IMAGE_HEIGHT': 416, 'GRID_WIDTH': 13, 'GRID_HEIGHT': 13}\n",
        "test_object_configuration = {'xmin': 100, 'ymin': 50, 'xmax': 400, 'ymax': 300}\n",
        "\n",
        "print('Before:')\n",
        "display(test_image_configuration)\n",
        "display(test_object_configuration)\n",
        "\n",
        "test_centerx, test_centery = centerxy_gridcellscale_rescaler(test_object_configuration, test_image_configuration)\n",
        "test_width, test_height = widthheight_gridcellscale_rescaler(test_object_configuration, test_image_configuration)\n",
        "\n",
        "print('\\nAfter:')\n",
        "print(f'rescaled centerx={test_centerx}\\t\\tin range 0-{test_image_configuration[\"GRID_WIDTH\"]}')\n",
        "print(f'rescaled centery={test_centery}\\t\\tin range 0-{test_image_configuration[\"GRID_HEIGHT\"]}')\n",
        "print(f'rescaled width={test_width}\\t\\tin range 0-{test_image_configuration[\"GRID_WIDTH\"]}')\n",
        "print(f'rescaled height={test_height}\\t\\tin range 0-{test_image_configuration[\"GRID_HEIGHT\"]}')"
      ],
      "metadata": {
        "colab": {
          "base_uri": "https://localhost:8080/",
          "height": 191
        },
        "id": "7ya60rEtt6Xa",
        "outputId": "499aca3a-4e1c-4ad0-9f6c-b7e360ade4f4"
      },
      "execution_count": null,
      "outputs": [
        {
          "output_type": "stream",
          "name": "stdout",
          "text": [
            "Test for centerxy_gridcellscale_rescaler() and widthheight_gridcellscale_rescaler():\n",
            "Before:\n"
          ]
        },
        {
          "output_type": "display_data",
          "data": {
            "text/plain": [
              "{'GRID_HEIGHT': 13, 'GRID_WIDTH': 13, 'IMAGE_HEIGHT': 416, 'IMAGE_WIDTH': 416}"
            ]
          },
          "metadata": {}
        },
        {
          "output_type": "display_data",
          "data": {
            "text/plain": [
              "{'xmax': 400, 'xmin': 100, 'ymax': 300, 'ymin': 50}"
            ]
          },
          "metadata": {}
        },
        {
          "output_type": "stream",
          "name": "stdout",
          "text": [
            "\n",
            "After:\n",
            "rescaled centerx=7.8125\t\tin range 0-13\n",
            "rescaled centery=5.46875\t\tin range 0-13\n",
            "rescaled width=9.375\t\tin range 0-13\n",
            "rescaled height=7.8125\t\tin range 0-13\n"
          ]
        }
      ]
    },
    {
      "cell_type": "markdown",
      "source": [
        "## **Modelling**"
      ],
      "metadata": {
        "id": "qsLMbJGtZ6a6"
      }
    },
    {
      "cell_type": "markdown",
      "source": [
        "Define BatchGenerator that will used later to define train and validation data in the model"
      ],
      "metadata": {
        "id": "u2XvrH15ZW4e"
      }
    },
    {
      "cell_type": "code",
      "source": [
        "class BatchGenerator(tf.keras.utils.Sequence):\n",
        "  def __init__(self, images, image_configuration, shuffle=True):\n",
        "    self.images_dict = images\n",
        "    self.shuffle = shuffle\n",
        "    if self.shuffle: np.random.shuffle(self.images_dict)\n",
        "\n",
        "    self.image_configuration = image_configuration\n",
        "    self.anchorBoxMatching = AnchorBoxMatching(self.image_configuration['ANCHORS'])\n",
        "    self.readImage = ReadImage(self.image_configuration['IMAGE_HEIGHT'], self.image_configuration['IMAGE_WIDTH'])\n",
        "  \n",
        "  def __getitem__(self, batch_index):\n",
        "    input_images_batch = np.zeros((self.image_configuration['BATCH_SIZE'],\n",
        "                                   self.image_configuration['IMAGE_HEIGHT'],\n",
        "                                   self.image_configuration['IMAGE_WIDTH'],\n",
        "                                   3\n",
        "                                   ))\n",
        "    input_boxes_batch = np.zeros((self.image_configuration['BATCH_SIZE'],\n",
        "                                  1,\n",
        "                                  1,\n",
        "                                  1,\n",
        "                                  self.image_configuration['GROUNDTRUTH_BOX'],\n",
        "                                  4\n",
        "                                  ))\n",
        "    output_batch = np.zeros((self.image_configuration['BATCH_SIZE'],\n",
        "                             self.image_configuration['GRID_HEIGHT'],\n",
        "                             self.image_configuration['GRID_WIDTH'],\n",
        "                             self.image_configuration['BOX'],\n",
        "                             4 + 1 + len(self.image_configuration['LABELS'])\n",
        "                             ))\n",
        "    \n",
        "    leftmost_image_in_batch = batch_index * self.image_configuration['BATCH_SIZE']\n",
        "    rightmost_image_in_batch = (batch_index + 1) * self.image_configuration['BATCH_SIZE']\n",
        "\n",
        "    if rightmost_image_in_batch > len(self.images_dict):\n",
        "      rightmost_image_in_batch = len(self.images_dict)\n",
        "      leftmost_image_in_batch = rightmost_image_in_batch - self.image_configuration['BATCH_SIZE']\n",
        "\n",
        "    image_index = 0\n",
        "    for train_instance in self.images_dict[leftmost_image_in_batch : rightmost_image_in_batch]:\n",
        "        image, objects_dict = self.readImage.fit(train_instance)\n",
        "\n",
        "        groundtruth_box_index = 0\n",
        "        for object_dict in objects_dict:\n",
        "          if object_dict['xmax'] > object_dict['xmin'] and object_dict['ymax'] > object_dict['ymin'] and object_dict['name'] in self.image_configuration['LABELS']:\n",
        "            centerx, centery = centerxy_gridcellscale_rescaler(object_dict, self.image_configuration)\n",
        "            \n",
        "            centerx_grid, centery_grid = int(np.floor(centerx)), int(np.floor(centery))\n",
        "\n",
        "            if centerx_grid < self.image_configuration['GRID_WIDTH'] and centery_grid < self.image_configuration['GRID_HEIGHT']:\n",
        "              label_index = self.image_configuration['LABELS'].index(object_dict['name'])\n",
        "              width, height = widthheight_gridcellscale_rescaler(object_dict, self.image_configuration)\n",
        "              fitted_anchor, _ = self.anchorBoxMatching.fit(width, height)\n",
        "\n",
        "              output_batch[image_index, centery_grid, centerx_grid, fitted_anchor, 0:4] = [centerx, centery, width, height]\n",
        "              output_batch[image_index, centery_grid, centerx_grid, fitted_anchor, 4  ] = 1.\n",
        "              output_batch[image_index, centery_grid, centerx_grid, fitted_anchor, 5:] = 0\n",
        "              output_batch[image_index, centery_grid, centerx_grid, fitted_anchor, 5 + label_index] = 1\n",
        "\n",
        "              input_boxes_batch[image_index, 0, 0, 0, groundtruth_box_index] = [centerx, centery, width, height]\n",
        "\n",
        "              groundtruth_box_index += 1\n",
        "              groundtruth_box_index = groundtruth_box_index % int(self.image_configuration['GROUNDTRUTH_BOX'])\n",
        "\n",
        "        input_images_batch[image_index] = image\n",
        "        image_index += 1\n",
        "    return [input_images_batch, input_boxes_batch], output_batch\n",
        "  \n",
        "  def __len__(self):\n",
        "    return int(np.ceil(len(self.images_dict) / float(self.image_configuration['BATCH_SIZE'])))\n",
        "  \n",
        "  def on_epoch_end(self):\n",
        "    if self.shuffle: np.random.shuffle(self.images_dict)"
      ],
      "metadata": {
        "id": "3FFvtv1oyR9U"
      },
      "execution_count": null,
      "outputs": []
    },
    {
      "cell_type": "markdown",
      "source": [
        "Rescale AnchorBox into grid cell scale"
      ],
      "metadata": {
        "id": "rRz7iKVhZhwe"
      }
    },
    {
      "cell_type": "code",
      "source": [
        "# TRAIN\n",
        "ANCHORS = copy.deepcopy(ANCHOR_BOXES)\n",
        "ANCHORS[::2], ANCHORS[1::2] = ANCHORS[::2] * GRID_WIDTH, ANCHORS[1::2] * GRID_HEIGHT"
      ],
      "metadata": {
        "id": "typP1Gmgl7Vg"
      },
      "execution_count": null,
      "outputs": []
    },
    {
      "cell_type": "markdown",
      "source": [
        "Define image configuration, train and validation batch generator"
      ],
      "metadata": {
        "id": "jMUe7CUrZndO"
      }
    },
    {
      "cell_type": "code",
      "source": [
        "image_configuration = {'LABELS' : LABELS,\n",
        "                       'ANCHORS' : ANCHORS,\n",
        "                       'IMAGE_HEIGHT' : IMAGE_HEIGHT,\n",
        "                       'IMAGE_WIDTH' : IMAGE_WIDTH,\n",
        "                       'GRID_HEIGHT' : GRID_HEIGHT,\n",
        "                       'GRID_WIDTH' : GRID_WIDTH,\n",
        "                       'BOX' : BOX,\n",
        "                       'BATCH_SIZE' : BATCH_SIZE,\n",
        "                       'GROUNDTRUTH_BOX' : GROUNDTRUTH_BOX\n",
        "                       }\n",
        "\n",
        "# TRAIN\n",
        "train_batch_generator = BatchGenerator(train_images_dict, image_configuration)\n",
        "\n",
        "# VALIDATION\n",
        "validation_batch_generator = BatchGenerator(validation_images_dict, image_configuration, shuffle=False)\n",
        "\n",
        "print('Get a sample batch item:\\n')\n",
        "[test_input_images_batch, test_input_boxes_batch], test_output_batch = train_batch_generator.__getitem__(batch_index=0)\n",
        "print(f'input_images_batch.shape\\t= {test_input_images_batch.shape}\\t= (BATCH_SIZE, IMAGE_HEIGHT, IMAGE_WIDTH, COLOR)')\n",
        "print(f'input_boxes_batch.shape\\t\\t= {test_input_boxes_batch.shape}\\t= (BATCH_SIZE, 1, 1, 1, GROUNDTRUTH_BOX, [centerx, centery, width, height])')\n",
        "print(f'output_batch.shape\\t\\t= {test_output_batch.shape}\\t= (BATCH_SIZE, GRID_HEIGHT, GRID_WIDTH, fitted ANCHORBOX, [centerx, centery, width, height] + confidence + N labels index)')\n"
      ],
      "metadata": {
        "id": "ERfQsWeByZ9H",
        "colab": {
          "base_uri": "https://localhost:8080/"
        },
        "outputId": "1ea34e1c-b909-4f62-fd30-e395e3da9a97"
      },
      "execution_count": null,
      "outputs": [
        {
          "output_type": "stream",
          "name": "stdout",
          "text": [
            "Get a sample batch item:\n",
            "\n",
            "input_images_batch.shape\t= (16, 416, 416, 3)\t= (BATCH_SIZE, IMAGE_HEIGHT, IMAGE_WIDTH, COLOR)\n",
            "input_boxes_batch.shape\t\t= (16, 1, 1, 1, 20, 4)\t= (BATCH_SIZE, 1, 1, 1, GROUNDTRUTH_BOX, [centerx, centery, width, height])\n",
            "output_batch.shape\t\t= (16, 13, 13, 4, 10)\t= (BATCH_SIZE, GRID_HEIGHT, GRID_WIDTH, fitted ANCHORBOX, [centerx, centery, width, height] + confidence + N labels index)\n"
          ]
        }
      ]
    },
    {
      "cell_type": "markdown",
      "source": [
        "Defining all layers for the model with total 23 layers"
      ],
      "metadata": {
        "id": "fYcMSIZYaUlK"
      }
    },
    {
      "cell_type": "code",
      "source": [
        "from tensorflow.keras import Model\n",
        "from tensorflow.keras.layers import Reshape, Activation, Conv2D, Input, MaxPooling2D, BatchNormalization, Lambda, LeakyReLU, concatenate\n",
        "from tensorflow.keras.callbacks import EarlyStopping, ModelCheckpoint\n",
        "from tensorflow.keras.optimizers import Adam\n",
        "\n",
        "input_images = Input(shape=(IMAGE_HEIGHT, IMAGE_WIDTH, 3))\n",
        "input_boxes = Input(shape=(1, 1, 1, GROUNDTRUTH_BOX, 4))\n",
        "\n",
        "# Layer 1\n",
        "x = Conv2D(32, kernel_size=(3,3), padding='same', name='conv2d_1', use_bias=False)(input_images)\n",
        "x = BatchNormalization(name='batchnormalization_1')(x)\n",
        "x = LeakyReLU(alpha=0.1)(x)\n",
        "x = MaxPooling2D(pool_size=(2, 2))(x)\n",
        "\n",
        "# Layer 2\n",
        "x = Conv2D(64, kernel_size=(3,3), padding='same', name='conv2d_2', use_bias=False)(x)\n",
        "x = BatchNormalization(name='batchnormalization_2')(x)\n",
        "x = LeakyReLU(alpha=0.1)(x)\n",
        "x = MaxPooling2D(pool_size=(2, 2))(x)\n",
        "\n",
        "# Layer 3\n",
        "x = Conv2D(128, kernel_size=(3,3), padding='same', name='conv2d_3', use_bias=False)(x)\n",
        "x = BatchNormalization(name='batchnormalization_3')(x)\n",
        "x = LeakyReLU(alpha=0.1)(x)\n",
        "\n",
        "# Layer 4\n",
        "x = Conv2D(64, kernel_size=(1,1), padding='same', name='conv2d_4', use_bias=False)(x)\n",
        "x = BatchNormalization(name='batchnormalization_4')(x)\n",
        "x = LeakyReLU(alpha=0.1)(x)\n",
        "\n",
        "# Layer 5\n",
        "x = Conv2D(128, kernel_size=(3,3), padding='same', name='conv2d_5', use_bias=False)(x)\n",
        "x = BatchNormalization(name='batchnormalization_5')(x)\n",
        "x = LeakyReLU(alpha=0.1)(x)\n",
        "x = MaxPooling2D(pool_size=(2, 2))(x)\n",
        "\n",
        "# Layer 6\n",
        "x = Conv2D(256, kernel_size=(3,3), padding='same', name='conv2d_6', use_bias=False)(x)\n",
        "x = BatchNormalization(name='batchnormalization_6')(x)\n",
        "x = LeakyReLU(alpha=0.1)(x)\n",
        "\n",
        "# Layer 7\n",
        "x = Conv2D(128, kernel_size=(1,1), padding='same', name='conv2d_7', use_bias=False)(x)\n",
        "x = BatchNormalization(name='batchnormalization_7')(x)\n",
        "x = LeakyReLU(alpha=0.1)(x)\n",
        "\n",
        "# Layer 8\n",
        "x = Conv2D(256, kernel_size=(3,3), padding='same', name='conv2d_8', use_bias=False)(x)\n",
        "x = BatchNormalization(name='batchnormalization_8')(x)\n",
        "x = LeakyReLU(alpha=0.1)(x)\n",
        "x = MaxPooling2D(pool_size=(2, 2))(x)\n",
        "\n",
        "# Layer 9\n",
        "x = Conv2D(512, kernel_size=(3,3), padding='same', name='conv2d_9', use_bias=False)(x)\n",
        "x = BatchNormalization(name='batchnormalization_9')(x)\n",
        "x = LeakyReLU(alpha=0.1)(x)\n",
        "\n",
        "# Layer 10\n",
        "x = Conv2D(256, kernel_size=(1,1), padding='same', name='conv2d_10', use_bias=False)(x)\n",
        "x = BatchNormalization(name='batchnormalization_10')(x)\n",
        "x = LeakyReLU(alpha=0.1)(x)\n",
        "\n",
        "# Layer 11\n",
        "x = Conv2D(512, kernel_size=(3,3), padding='same', name='conv2d_11', use_bias=False)(x)\n",
        "x = BatchNormalization(name='batchnormalization_11')(x)\n",
        "x = LeakyReLU(alpha=0.1)(x)\n",
        "\n",
        "# Layer 12\n",
        "x = Conv2D(256, kernel_size=(1,1), padding='same', name='conv2d_12', use_bias=False)(x)\n",
        "x = BatchNormalization(name='batchnormalization_12')(x)\n",
        "x = LeakyReLU(alpha=0.1)(x)\n",
        "\n",
        "# Layer 13\n",
        "x = Conv2D(512, kernel_size=(3,3), padding='same', name='conv2d_13', use_bias=False)(x)\n",
        "x = BatchNormalization(name='batchnormalization_13')(x)\n",
        "x = LeakyReLU(alpha=0.1)(x)\n",
        "\n",
        "skip_connection = x\n",
        "\n",
        "x = MaxPooling2D(pool_size=(2, 2))(x)\n",
        "\n",
        "# Layer 14\n",
        "x = Conv2D(1024, kernel_size=(3,3), padding='same', name='conv2d_14', use_bias=False)(x)\n",
        "x = BatchNormalization(name='batchnormalization_14')(x)\n",
        "x = LeakyReLU(alpha=0.1)(x)\n",
        "\n",
        "# Layer 15\n",
        "x = Conv2D(512, kernel_size=(1,1), padding='same', name='conv2d_15', use_bias=False)(x)\n",
        "x = BatchNormalization(name='batchnormalization_15')(x)\n",
        "x = LeakyReLU(alpha=0.1)(x)\n",
        "\n",
        "# Layer 16\n",
        "x = Conv2D(1024, kernel_size=(3,3), padding='same', name='conv2d_16', use_bias=False)(x)\n",
        "x = BatchNormalization(name='batchnormalization_16')(x)\n",
        "x = LeakyReLU(alpha=0.1)(x)\n",
        "\n",
        "# Layer 17\n",
        "x = Conv2D(512, kernel_size=(1,1), padding='same', name='conv2d_17', use_bias=False)(x)\n",
        "x = BatchNormalization(name='batchnormalization_17')(x)\n",
        "x = LeakyReLU(alpha=0.1)(x)\n",
        "\n",
        "# Layer 18\n",
        "x = Conv2D(1024, kernel_size=(3,3), padding='same', name='conv2d_18', use_bias=False)(x)\n",
        "x = BatchNormalization(name='batchnormalization_18')(x)\n",
        "x = LeakyReLU(alpha=0.1)(x)\n",
        "\n",
        "# Layer 19\n",
        "x = Conv2D(1024, kernel_size=(3,3), padding='same', name='conv2d_19', use_bias=False)(x)\n",
        "x = BatchNormalization(name='batchnormalization_19')(x)\n",
        "x = LeakyReLU(alpha=0.1)(x)\n",
        "\n",
        "# Layer 20\n",
        "x = Conv2D(1024, kernel_size=(3,3), padding='same', name='conv2d_20', use_bias=False)(x)\n",
        "x = BatchNormalization(name='batchnormalization_20')(x)\n",
        "x = LeakyReLU(alpha=0.1)(x)\n",
        "\n",
        "# Layer 21\n",
        "skip_connection = Conv2D(64, kernel_size=(1,1), padding='same', name='conv2d_21', use_bias=False)(skip_connection)\n",
        "skip_connection = BatchNormalization(name='batchnormalization_21')(skip_connection)\n",
        "skip_connection = LeakyReLU(alpha=0.1)(skip_connection)\n",
        "skip_connection = Lambda(lambda x: tf.nn.space_to_depth(x, block_size=2))(skip_connection)\n",
        "\n",
        "x = concatenate([skip_connection, x])\n",
        "\n",
        "# Layer 22\n",
        "x = Conv2D(1024, kernel_size=(3,3), padding='same', name='conv2d_22', use_bias=False)(x)\n",
        "x = BatchNormalization(name='batchnormalization_22')(x)\n",
        "x = LeakyReLU(alpha=0.1)(x)\n",
        "\n",
        "# Layer 23\n",
        "x = Conv2D(512, kernel_size=(3,3), padding='same', name='conv2d_23')(x)\n",
        "x = LeakyReLU(alpha=0.1)(x)\n",
        "\n",
        "# Layer 24\n",
        "x = Conv2D(1024, kernel_size=(3,3), padding='same', name='conv2d_24')(x)\n",
        "x = LeakyReLU(alpha=0.1)(x)\n",
        "\n",
        "# Layer 25\n",
        "x = Conv2D(BOX * (4 + 1 + len(LABELS)), kernel_size=(1,1), padding='same', name='conv2d_25')(x)\n",
        "\n",
        "output = Reshape((GRID_HEIGHT, GRID_WIDTH, BOX, 4 + 1 + len(LABELS)))(x)\n",
        "output = Lambda(lambda args: args[0])([output, input_boxes])\n",
        "\n",
        "model = Model([input_images, input_boxes], output)\n",
        "model.summary()"
      ],
      "metadata": {
        "colab": {
          "base_uri": "https://localhost:8080/"
        },
        "id": "ApaXju-HR0Ub",
        "outputId": "6a039db4-5aa5-46c9-d5bb-aaac9a765ecf"
      },
      "execution_count": null,
      "outputs": [
        {
          "output_type": "stream",
          "name": "stdout",
          "text": [
            "Model: \"model\"\n",
            "__________________________________________________________________________________________________\n",
            " Layer (type)                   Output Shape         Param #     Connected to                     \n",
            "==================================================================================================\n",
            " input_1 (InputLayer)           [(None, 416, 416, 3  0           []                               \n",
            "                                )]                                                                \n",
            "                                                                                                  \n",
            " conv2d_1 (Conv2D)              (None, 416, 416, 32  864         ['input_1[0][0]']                \n",
            "                                )                                                                 \n",
            "                                                                                                  \n",
            " batchnormalization_1 (BatchNor  (None, 416, 416, 32  128        ['conv2d_1[0][0]']               \n",
            " malization)                    )                                                                 \n",
            "                                                                                                  \n",
            " leaky_re_lu (LeakyReLU)        (None, 416, 416, 32  0           ['batchnormalization_1[0][0]']   \n",
            "                                )                                                                 \n",
            "                                                                                                  \n",
            " max_pooling2d (MaxPooling2D)   (None, 208, 208, 32  0           ['leaky_re_lu[0][0]']            \n",
            "                                )                                                                 \n",
            "                                                                                                  \n",
            " conv2d_2 (Conv2D)              (None, 208, 208, 64  18432       ['max_pooling2d[0][0]']          \n",
            "                                )                                                                 \n",
            "                                                                                                  \n",
            " batchnormalization_2 (BatchNor  (None, 208, 208, 64  256        ['conv2d_2[0][0]']               \n",
            " malization)                    )                                                                 \n",
            "                                                                                                  \n",
            " leaky_re_lu_1 (LeakyReLU)      (None, 208, 208, 64  0           ['batchnormalization_2[0][0]']   \n",
            "                                )                                                                 \n",
            "                                                                                                  \n",
            " max_pooling2d_1 (MaxPooling2D)  (None, 104, 104, 64  0          ['leaky_re_lu_1[0][0]']          \n",
            "                                )                                                                 \n",
            "                                                                                                  \n",
            " conv2d_3 (Conv2D)              (None, 104, 104, 12  73728       ['max_pooling2d_1[0][0]']        \n",
            "                                8)                                                                \n",
            "                                                                                                  \n",
            " batchnormalization_3 (BatchNor  (None, 104, 104, 12  512        ['conv2d_3[0][0]']               \n",
            " malization)                    8)                                                                \n",
            "                                                                                                  \n",
            " leaky_re_lu_2 (LeakyReLU)      (None, 104, 104, 12  0           ['batchnormalization_3[0][0]']   \n",
            "                                8)                                                                \n",
            "                                                                                                  \n",
            " conv2d_4 (Conv2D)              (None, 104, 104, 64  8192        ['leaky_re_lu_2[0][0]']          \n",
            "                                )                                                                 \n",
            "                                                                                                  \n",
            " batchnormalization_4 (BatchNor  (None, 104, 104, 64  256        ['conv2d_4[0][0]']               \n",
            " malization)                    )                                                                 \n",
            "                                                                                                  \n",
            " leaky_re_lu_3 (LeakyReLU)      (None, 104, 104, 64  0           ['batchnormalization_4[0][0]']   \n",
            "                                )                                                                 \n",
            "                                                                                                  \n",
            " conv2d_5 (Conv2D)              (None, 104, 104, 12  73728       ['leaky_re_lu_3[0][0]']          \n",
            "                                8)                                                                \n",
            "                                                                                                  \n",
            " batchnormalization_5 (BatchNor  (None, 104, 104, 12  512        ['conv2d_5[0][0]']               \n",
            " malization)                    8)                                                                \n",
            "                                                                                                  \n",
            " leaky_re_lu_4 (LeakyReLU)      (None, 104, 104, 12  0           ['batchnormalization_5[0][0]']   \n",
            "                                8)                                                                \n",
            "                                                                                                  \n",
            " max_pooling2d_2 (MaxPooling2D)  (None, 52, 52, 128)  0          ['leaky_re_lu_4[0][0]']          \n",
            "                                                                                                  \n",
            " conv2d_6 (Conv2D)              (None, 52, 52, 256)  294912      ['max_pooling2d_2[0][0]']        \n",
            "                                                                                                  \n",
            " batchnormalization_6 (BatchNor  (None, 52, 52, 256)  1024       ['conv2d_6[0][0]']               \n",
            " malization)                                                                                      \n",
            "                                                                                                  \n",
            " leaky_re_lu_5 (LeakyReLU)      (None, 52, 52, 256)  0           ['batchnormalization_6[0][0]']   \n",
            "                                                                                                  \n",
            " conv2d_7 (Conv2D)              (None, 52, 52, 128)  32768       ['leaky_re_lu_5[0][0]']          \n",
            "                                                                                                  \n",
            " batchnormalization_7 (BatchNor  (None, 52, 52, 128)  512        ['conv2d_7[0][0]']               \n",
            " malization)                                                                                      \n",
            "                                                                                                  \n",
            " leaky_re_lu_6 (LeakyReLU)      (None, 52, 52, 128)  0           ['batchnormalization_7[0][0]']   \n",
            "                                                                                                  \n",
            " conv2d_8 (Conv2D)              (None, 52, 52, 256)  294912      ['leaky_re_lu_6[0][0]']          \n",
            "                                                                                                  \n",
            " batchnormalization_8 (BatchNor  (None, 52, 52, 256)  1024       ['conv2d_8[0][0]']               \n",
            " malization)                                                                                      \n",
            "                                                                                                  \n",
            " leaky_re_lu_7 (LeakyReLU)      (None, 52, 52, 256)  0           ['batchnormalization_8[0][0]']   \n",
            "                                                                                                  \n",
            " max_pooling2d_3 (MaxPooling2D)  (None, 26, 26, 256)  0          ['leaky_re_lu_7[0][0]']          \n",
            "                                                                                                  \n",
            " conv2d_9 (Conv2D)              (None, 26, 26, 512)  1179648     ['max_pooling2d_3[0][0]']        \n",
            "                                                                                                  \n",
            " batchnormalization_9 (BatchNor  (None, 26, 26, 512)  2048       ['conv2d_9[0][0]']               \n",
            " malization)                                                                                      \n",
            "                                                                                                  \n",
            " leaky_re_lu_8 (LeakyReLU)      (None, 26, 26, 512)  0           ['batchnormalization_9[0][0]']   \n",
            "                                                                                                  \n",
            " conv2d_10 (Conv2D)             (None, 26, 26, 256)  131072      ['leaky_re_lu_8[0][0]']          \n",
            "                                                                                                  \n",
            " batchnormalization_10 (BatchNo  (None, 26, 26, 256)  1024       ['conv2d_10[0][0]']              \n",
            " rmalization)                                                                                     \n",
            "                                                                                                  \n",
            " leaky_re_lu_9 (LeakyReLU)      (None, 26, 26, 256)  0           ['batchnormalization_10[0][0]']  \n",
            "                                                                                                  \n",
            " conv2d_11 (Conv2D)             (None, 26, 26, 512)  1179648     ['leaky_re_lu_9[0][0]']          \n",
            "                                                                                                  \n",
            " batchnormalization_11 (BatchNo  (None, 26, 26, 512)  2048       ['conv2d_11[0][0]']              \n",
            " rmalization)                                                                                     \n",
            "                                                                                                  \n",
            " leaky_re_lu_10 (LeakyReLU)     (None, 26, 26, 512)  0           ['batchnormalization_11[0][0]']  \n",
            "                                                                                                  \n",
            " conv2d_12 (Conv2D)             (None, 26, 26, 256)  131072      ['leaky_re_lu_10[0][0]']         \n",
            "                                                                                                  \n",
            " batchnormalization_12 (BatchNo  (None, 26, 26, 256)  1024       ['conv2d_12[0][0]']              \n",
            " rmalization)                                                                                     \n",
            "                                                                                                  \n",
            " leaky_re_lu_11 (LeakyReLU)     (None, 26, 26, 256)  0           ['batchnormalization_12[0][0]']  \n",
            "                                                                                                  \n",
            " conv2d_13 (Conv2D)             (None, 26, 26, 512)  1179648     ['leaky_re_lu_11[0][0]']         \n",
            "                                                                                                  \n",
            " batchnormalization_13 (BatchNo  (None, 26, 26, 512)  2048       ['conv2d_13[0][0]']              \n",
            " rmalization)                                                                                     \n",
            "                                                                                                  \n",
            " leaky_re_lu_12 (LeakyReLU)     (None, 26, 26, 512)  0           ['batchnormalization_13[0][0]']  \n",
            "                                                                                                  \n",
            " max_pooling2d_4 (MaxPooling2D)  (None, 13, 13, 512)  0          ['leaky_re_lu_12[0][0]']         \n",
            "                                                                                                  \n",
            " conv2d_14 (Conv2D)             (None, 13, 13, 1024  4718592     ['max_pooling2d_4[0][0]']        \n",
            "                                )                                                                 \n",
            "                                                                                                  \n",
            " batchnormalization_14 (BatchNo  (None, 13, 13, 1024  4096       ['conv2d_14[0][0]']              \n",
            " rmalization)                   )                                                                 \n",
            "                                                                                                  \n",
            " leaky_re_lu_13 (LeakyReLU)     (None, 13, 13, 1024  0           ['batchnormalization_14[0][0]']  \n",
            "                                )                                                                 \n",
            "                                                                                                  \n",
            " conv2d_15 (Conv2D)             (None, 13, 13, 512)  524288      ['leaky_re_lu_13[0][0]']         \n",
            "                                                                                                  \n",
            " batchnormalization_15 (BatchNo  (None, 13, 13, 512)  2048       ['conv2d_15[0][0]']              \n",
            " rmalization)                                                                                     \n",
            "                                                                                                  \n",
            " leaky_re_lu_14 (LeakyReLU)     (None, 13, 13, 512)  0           ['batchnormalization_15[0][0]']  \n",
            "                                                                                                  \n",
            " conv2d_16 (Conv2D)             (None, 13, 13, 1024  4718592     ['leaky_re_lu_14[0][0]']         \n",
            "                                )                                                                 \n",
            "                                                                                                  \n",
            " batchnormalization_16 (BatchNo  (None, 13, 13, 1024  4096       ['conv2d_16[0][0]']              \n",
            " rmalization)                   )                                                                 \n",
            "                                                                                                  \n",
            " leaky_re_lu_15 (LeakyReLU)     (None, 13, 13, 1024  0           ['batchnormalization_16[0][0]']  \n",
            "                                )                                                                 \n",
            "                                                                                                  \n",
            " conv2d_17 (Conv2D)             (None, 13, 13, 512)  524288      ['leaky_re_lu_15[0][0]']         \n",
            "                                                                                                  \n",
            " batchnormalization_17 (BatchNo  (None, 13, 13, 512)  2048       ['conv2d_17[0][0]']              \n",
            " rmalization)                                                                                     \n",
            "                                                                                                  \n",
            " leaky_re_lu_16 (LeakyReLU)     (None, 13, 13, 512)  0           ['batchnormalization_17[0][0]']  \n",
            "                                                                                                  \n",
            " conv2d_18 (Conv2D)             (None, 13, 13, 1024  4718592     ['leaky_re_lu_16[0][0]']         \n",
            "                                )                                                                 \n",
            "                                                                                                  \n",
            " batchnormalization_18 (BatchNo  (None, 13, 13, 1024  4096       ['conv2d_18[0][0]']              \n",
            " rmalization)                   )                                                                 \n",
            "                                                                                                  \n",
            " leaky_re_lu_17 (LeakyReLU)     (None, 13, 13, 1024  0           ['batchnormalization_18[0][0]']  \n",
            "                                )                                                                 \n",
            "                                                                                                  \n",
            " conv2d_19 (Conv2D)             (None, 13, 13, 1024  9437184     ['leaky_re_lu_17[0][0]']         \n",
            "                                )                                                                 \n",
            "                                                                                                  \n",
            " batchnormalization_19 (BatchNo  (None, 13, 13, 1024  4096       ['conv2d_19[0][0]']              \n",
            " rmalization)                   )                                                                 \n",
            "                                                                                                  \n",
            " conv2d_21 (Conv2D)             (None, 26, 26, 64)   32768       ['leaky_re_lu_12[0][0]']         \n",
            "                                                                                                  \n",
            " leaky_re_lu_18 (LeakyReLU)     (None, 13, 13, 1024  0           ['batchnormalization_19[0][0]']  \n",
            "                                )                                                                 \n",
            "                                                                                                  \n",
            " batchnormalization_21 (BatchNo  (None, 26, 26, 64)  256         ['conv2d_21[0][0]']              \n",
            " rmalization)                                                                                     \n",
            "                                                                                                  \n",
            " conv2d_20 (Conv2D)             (None, 13, 13, 1024  9437184     ['leaky_re_lu_18[0][0]']         \n",
            "                                )                                                                 \n",
            "                                                                                                  \n",
            " leaky_re_lu_20 (LeakyReLU)     (None, 26, 26, 64)   0           ['batchnormalization_21[0][0]']  \n",
            "                                                                                                  \n",
            " batchnormalization_20 (BatchNo  (None, 13, 13, 1024  4096       ['conv2d_20[0][0]']              \n",
            " rmalization)                   )                                                                 \n",
            "                                                                                                  \n",
            " lambda (Lambda)                (None, 13, 13, 256)  0           ['leaky_re_lu_20[0][0]']         \n",
            "                                                                                                  \n",
            " leaky_re_lu_19 (LeakyReLU)     (None, 13, 13, 1024  0           ['batchnormalization_20[0][0]']  \n",
            "                                )                                                                 \n",
            "                                                                                                  \n",
            " concatenate (Concatenate)      (None, 13, 13, 1280  0           ['lambda[0][0]',                 \n",
            "                                )                                 'leaky_re_lu_19[0][0]']         \n",
            "                                                                                                  \n",
            " conv2d_22 (Conv2D)             (None, 13, 13, 1024  11796480    ['concatenate[0][0]']            \n",
            "                                )                                                                 \n",
            "                                                                                                  \n",
            " batchnormalization_22 (BatchNo  (None, 13, 13, 1024  4096       ['conv2d_22[0][0]']              \n",
            " rmalization)                   )                                                                 \n",
            "                                                                                                  \n",
            " leaky_re_lu_21 (LeakyReLU)     (None, 13, 13, 1024  0           ['batchnormalization_22[0][0]']  \n",
            "                                )                                                                 \n",
            "                                                                                                  \n",
            " conv2d_23 (Conv2D)             (None, 13, 13, 512)  4719104     ['leaky_re_lu_21[0][0]']         \n",
            "                                                                                                  \n",
            " leaky_re_lu_22 (LeakyReLU)     (None, 13, 13, 512)  0           ['conv2d_23[0][0]']              \n",
            "                                                                                                  \n",
            " conv2d_24 (Conv2D)             (None, 13, 13, 1024  4719616     ['leaky_re_lu_22[0][0]']         \n",
            "                                )                                                                 \n",
            "                                                                                                  \n",
            " leaky_re_lu_23 (LeakyReLU)     (None, 13, 13, 1024  0           ['conv2d_24[0][0]']              \n",
            "                                )                                                                 \n",
            "                                                                                                  \n",
            " conv2d_25 (Conv2D)             (None, 13, 13, 40)   41000       ['leaky_re_lu_23[0][0]']         \n",
            "                                                                                                  \n",
            " reshape (Reshape)              (None, 13, 13, 4, 1  0           ['conv2d_25[0][0]']              \n",
            "                                0)                                                                \n",
            "                                                                                                  \n",
            " input_2 (InputLayer)           [(None, 1, 1, 1, 20  0           []                               \n",
            "                                , 4)]                                                             \n",
            "                                                                                                  \n",
            " lambda_1 (Lambda)              (None, 13, 13, 4, 1  0           ['reshape[0][0]',                \n",
            "                                0)                                'input_2[0][0]']                \n",
            "                                                                                                  \n",
            "==================================================================================================\n",
            "Total params: 60,027,656\n",
            "Trainable params: 60,006,984\n",
            "Non-trainable params: 20,672\n",
            "__________________________________________________________________________________________________\n"
          ]
        }
      ]
    },
    {
      "cell_type": "markdown",
      "source": [
        "Downloading the pretrained weights"
      ],
      "metadata": {
        "id": "NOso7ovrafRw"
      }
    },
    {
      "cell_type": "code",
      "source": [
        "!wget https://pjreddie.com/media/files/yolov2.weights"
      ],
      "metadata": {
        "colab": {
          "base_uri": "https://localhost:8080/"
        },
        "id": "5xIK5-XWkhX3",
        "outputId": "1413b8d6-744a-4ece-f94f-585ba9c582aa"
      },
      "execution_count": null,
      "outputs": [
        {
          "output_type": "stream",
          "name": "stdout",
          "text": [
            "--2022-05-28 03:10:33--  https://pjreddie.com/media/files/yolov2.weights\n",
            "Resolving pjreddie.com (pjreddie.com)... 128.208.4.108\n",
            "Connecting to pjreddie.com (pjreddie.com)|128.208.4.108|:443... connected.\n",
            "HTTP request sent, awaiting response... 200 OK\n",
            "Length: 203934260 (194M) [application/octet-stream]\n",
            "Saving to: ‘yolov2.weights’\n",
            "\n",
            "yolov2.weights      100%[===================>] 194.49M  21.3MB/s    in 7.4s    \n",
            "\n",
            "2022-05-28 03:10:41 (26.3 MB/s) - ‘yolov2.weights’ saved [203934260/203934260]\n",
            "\n"
          ]
        }
      ]
    },
    {
      "cell_type": "markdown",
      "source": [
        "Reading the weight"
      ],
      "metadata": {
        "id": "4xQD6tGYalNG"
      }
    },
    {
      "cell_type": "code",
      "source": [
        "Defclass ReadWeight:\n",
        "  def __init__(self, weight_path):\n",
        "    self.weights = np.fromfile(weight_path, dtype=np.float32)\n",
        "    self.offset = 4\n",
        "      \n",
        "  def get_bytes(self, weight_length):\n",
        "    self.offset += weight_length\n",
        "    return self.weights[self.offset - weight_length : self.offset]\n",
        "\n",
        "  def reset(self):\n",
        "    self.offset = 4"
      ],
      "metadata": {
        "id": "_fwdvbFgkpml"
      },
      "execution_count": null,
      "outputs": []
    },
    {
      "cell_type": "markdown",
      "source": [
        "Make a directory for the weights file then print the shape"
      ],
      "metadata": {
        "id": "KkOmw6OYaqnv"
      }
    },
    {
      "cell_type": "code",
      "source": [
        "# Read pretrained weight from file\n",
        "pretrained_weight_path = os.path.join(os.getcwd(), 'yolov2.weights')\n",
        "readWeight = ReadWeight(pretrained_weight_path)\n",
        "print(f'Pretrained weights.shape = {readWeight.weights.shape}')"
      ],
      "metadata": {
        "colab": {
          "base_uri": "https://localhost:8080/"
        },
        "id": "hRLRwW13yGzc",
        "outputId": "5f3d7886-b259-4acd-f752-d0b1be417a96"
      },
      "execution_count": null,
      "outputs": [
        {
          "output_type": "stream",
          "name": "stdout",
          "text": [
            "Pretrained weights.shape = (50983565,)\n"
          ]
        }
      ]
    },
    {
      "cell_type": "markdown",
      "source": [
        ""
      ],
      "metadata": {
        "id": "q7_dfRIQawSN"
      }
    },
    {
      "cell_type": "code",
      "source": [
        "readWeight.reset()\n",
        "total_conv2d_layer = 22\n",
        "\n",
        "for i in range(1, total_conv2d_layer + 1):\n",
        "  conv2d_layer = model.get_layer(f'conv2d_{i}')\n",
        "\n",
        "  if i < total_conv2d_layer:\n",
        "    batchnormalization_layer = model.get_layer(f'batchnormalization_{i}')\n",
        "    weight_length = np.prod(batchnormalization_layer.get_weights()[0].shape)\n",
        "\n",
        "    beta = readWeight.get_bytes(weight_length)\n",
        "    gamma = readWeight.get_bytes(weight_length)\n",
        "    mean_moving_average = readWeight.get_bytes(weight_length)\n",
        "    variance_moving_average = readWeight.get_bytes(weight_length)\n",
        "\n",
        "    batchnormalization_layer.set_weights([gamma, beta, mean_moving_average, variance_moving_average])\n",
        "\n",
        "  bias = readWeight.get_bytes(np.prod(conv2d_layer.get_weights()[1].shape)) if len(conv2d_layer.get_weights()) > 1 else None\n",
        "  kernel = readWeight.get_bytes(np.prod(conv2d_layer.get_weights()[0].shape))\n",
        "  kernel = kernel.reshape(list(reversed(conv2d_layer.get_weights()[0].shape)))\n",
        "  kernel = kernel.transpose((2, 3, 1, 0))\n",
        "\n",
        "  if bias is None: conv2d_layer.set_weights([kernel])\n",
        "  else: conv2d_layer.set_weights([kernel, bias])"
      ],
      "metadata": {
        "id": "SLG_JAvfzFYN"
      },
      "execution_count": null,
      "outputs": []
    },
    {
      "cell_type": "code",
      "source": [
        "for i in range(23, 26):\n",
        "  kernel = np.random.normal(size=model.get_layer(f'conv2d_{i}').get_weights()[0].shape) / (GRID_HEIGHT * GRID_WIDTH)\n",
        "  bias = np.random.normal(size=model.get_layer(f'conv2d_{i}').get_weights()[1].shape) / (GRID_HEIGHT * GRID_WIDTH)\n",
        "  model.get_layer(f'conv2d_{i}').set_weights([kernel, bias])"
      ],
      "metadata": {
        "id": "akTKUXECzLTm"
      },
      "execution_count": null,
      "outputs": []
    },
    {
      "cell_type": "code",
      "execution_count": null,
      "metadata": {
        "id": "hGMVgP3CcEsy"
      },
      "outputs": [],
      "source": [
        "LAMBDA_NO_OBJECT = 0.5\n",
        "LAMBDA_OBJECT    = 2.5\n",
        "LAMBDA_COORD     = 0.5\n",
        "LAMBDA_CLASS     = 0.5"
      ]
    },
    {
      "cell_type": "code",
      "execution_count": null,
      "metadata": {
        "id": "ZfJyn474BeXp"
      },
      "outputs": [],
      "source": [
        "def prediction_gridcellscale_scaler(output_prediction, BATCH_SIZE, GRID_WIDTH, GRID_HEIGHT, ANCHORS):\n",
        "  total_anchor = len(ANCHORS) // 2\n",
        "\n",
        "  # Create grid cell\n",
        "  grid_height_cell = tf.reshape(tf.tile(tf.range(GRID_WIDTH, dtype=tf.float32), multiples=[GRID_HEIGHT]), shape=(1, GRID_HEIGHT, GRID_WIDTH, 1, 1))\n",
        "  grid_width_cell = tf.transpose(grid_height_cell, perm=(0,2,1,3,4))\n",
        "  grid_cell = tf.tile(tf.concat([grid_height_cell, grid_width_cell], axis=-1), multiples=[BATCH_SIZE, 1, 1, total_anchor, 1])\n",
        "  \n",
        "  # Rescale centerxy and widthheight prediction into gridcellscale\n",
        "  centerxy_prediction = tf.sigmoid(output_prediction[..., :2]) + grid_cell\n",
        "  widthheight_prediction = tf.exp(output_prediction[..., 2:4]) * np.reshape(ANCHORS, [1, 1, 1, total_anchor, 2])\n",
        "\n",
        "  confidence_prediction = tf.sigmoid(output_prediction[..., 4])\n",
        "  label_prediction = output_prediction[..., 5:]\n",
        "\n",
        "  return centerxy_prediction, widthheight_prediction, confidence_prediction, label_prediction"
      ]
    },
    {
      "cell_type": "code",
      "execution_count": null,
      "metadata": {
        "id": "Yrmit1g3fFsF"
      },
      "outputs": [],
      "source": [
        "def get_groundtruth(output_groundtruth):\n",
        "  centerxy_groundtruth = output_groundtruth[..., 0:2]\n",
        "  widthheight_groundtruth = output_groundtruth[..., 2:4]\n",
        "  confidence_groundtruth = output_groundtruth[...,4]\n",
        "  label_groundtruth = tf.argmax(output_groundtruth[..., 5:], -1)\n",
        "\n",
        "  return centerxy_groundtruth, widthheight_groundtruth, confidence_groundtruth, label_groundtruth"
      ]
    },
    {
      "cell_type": "code",
      "execution_count": null,
      "metadata": {
        "id": "qh3zSaBx0aQk"
      },
      "outputs": [],
      "source": [
        "def calculate_loss_centerxywidthheight(LAMBDA_COORD, confidence_groundtruth, centerxy_groundtruth, centerxy_prediction, widthheight_groundtruth, widthheight_prediction):\n",
        "  L_obj = tf.expand_dims(tf.cast(confidence_groundtruth, dtype=tf.float32), axis=-1)\n",
        "  N_L_obj = tf.reduce_sum(tf.cast(L_obj > 0.0, dtype=tf.float32))\n",
        "\n",
        "  loss_centerxy = tf.reduce_sum(tf.square(centerxy_groundtruth - centerxy_prediction) * L_obj)\n",
        "  loss_widthheight = tf.reduce_sum(tf.square(widthheight_groundtruth - widthheight_prediction) * L_obj)\n",
        "\n",
        "  loss_centerxywidthheight = (LAMBDA_COORD / N_L_obj) * (loss_centerxy + loss_widthheight)\n",
        "\n",
        "  return loss_centerxywidthheight"
      ]
    },
    {
      "cell_type": "code",
      "execution_count": null,
      "metadata": {
        "id": "rS7ETz3O47Tp"
      },
      "outputs": [],
      "source": [
        "def calculate_loss_label(LAMBDA_CLASS, confidence_groundtruth, label_groundtruth, label_prediction):  \n",
        "  L_obj = confidence_groundtruth\n",
        "  N_L_obj = tf.reduce_sum(tf.cast(L_obj > 0.0, tf.float32))\n",
        "  loss_label = tf.nn.sparse_softmax_cross_entropy_with_logits(labels=label_groundtruth, logits=label_prediction)\n",
        "  loss_label = tf.reduce_sum(loss_label * L_obj)\n",
        "  loss_label = (LAMBDA_CLASS / N_L_obj) * loss_label\n",
        "  \n",
        "  return loss_label"
      ]
    },
    {
      "cell_type": "code",
      "execution_count": null,
      "metadata": {
        "id": "iz4E5A1V5QI3"
      },
      "outputs": [],
      "source": [
        "def get_existed_object_iou(confidence_groundtruth,\n",
        "                           centerxy_groundtruth, widthheight_groundtruth,\n",
        "                           centerxy_prediction, widthheight_prediction):\n",
        "  \n",
        "  max_xy_groundtruth = centerxy_groundtruth + (widthheight_groundtruth * .5)\n",
        "  min_xy_groundtruth = centerxy_groundtruth - (widthheight_groundtruth * .5)\n",
        "\n",
        "  max_xy_prediction = centerxy_prediction + (widthheight_prediction * .5)\n",
        "  min_xy_prediction = centerxy_prediction - (widthheight_prediction * .5)\n",
        "\n",
        "  min_xy_intersection = tf.maximum(min_xy_prediction, min_xy_groundtruth)\n",
        "  max_xy_intersection = tf.minimum(max_xy_prediction, max_xy_groundtruth)\n",
        "  widthheight_intersection = tf.maximum(max_xy_intersection - min_xy_intersection, 0.)\n",
        "  intersection_area = widthheight_intersection[..., 0] * widthheight_intersection[..., 1]\n",
        "\n",
        "  groundtruth_area = widthheight_groundtruth[..., 0] * widthheight_groundtruth[..., 1]\n",
        "  prediction_area = widthheight_prediction[..., 0] * widthheight_prediction[..., 1]\n",
        "  union_area = prediction_area + groundtruth_area - intersection_area\n",
        "\n",
        "  return (intersection_area / union_area) * confidence_groundtruth"
      ]
    },
    {
      "cell_type": "code",
      "execution_count": null,
      "metadata": {
        "id": "Lt5lhZlv6KOb"
      },
      "outputs": [],
      "source": [
        "def calculate_loss_confidence(LAMBDA_OBJECT, LAMBDA_NO_OBJECT, existed_object_iou, confidence_groundtruth, confidence_prediction):\n",
        "  L_noobj = tf.cast(existed_object_iou < .6, tf.float32) * (1 - confidence_groundtruth)\n",
        "  L_obj = confidence_groundtruth\n",
        "  IOU = existed_object_iou\n",
        "  N_conf = tf.reduce_sum(L_obj + L_noobj)\n",
        "\n",
        "  loss_confidence = LAMBDA_OBJECT * L_obj * tf.square(IOU - confidence_prediction)\n",
        "  loss_confidence = loss_confidence + (LAMBDA_NO_OBJECT * L_noobj * tf.square(IOU - confidence_prediction))\n",
        "  loss_confidence = tf.reduce_sum(loss_confidence) / N_conf\n",
        "\n",
        "  return loss_confidence"
      ]
    },
    {
      "cell_type": "markdown",
      "source": [
        "Define the custom loss for the model"
      ],
      "metadata": {
        "id": "cs8Cb0CEbYLv"
      }
    },
    {
      "cell_type": "code",
      "execution_count": null,
      "metadata": {
        "id": "YgDQabe86bmY"
      },
      "outputs": [],
      "source": [
        "def custom_loss(output_batch, output_prediction):\n",
        "  # Rescale prediction output into grid cell scale\n",
        "  (centerxy_prediction, widthheight_prediction,\n",
        "  confidence_prediction, label_prediction) = prediction_gridcellscale_scaler(output_prediction, BATCH_SIZE,\n",
        "                                                                            GRID_WIDTH, GRID_HEIGHT, ANCHORS)\n",
        "  \n",
        "  # Parse ground truth output\n",
        "  (centerxy_groundtruth, widthheight_groundtruth,\n",
        "  confidence_groundtruth, label_groundtruth) = get_groundtruth(output_batch)\n",
        "\n",
        "  # Calculate centerx, centery, width, height loss\n",
        "  loss_centerxywidthheight = calculate_loss_centerxywidthheight(LAMBDA_COORD, confidence_groundtruth,\n",
        "                                                                centerxy_groundtruth, centerxy_prediction,\n",
        "                                                                widthheight_groundtruth, widthheight_prediction)\n",
        "  \n",
        "  # Calculate label probability loss\n",
        "  loss_label = calculate_loss_label(LAMBDA_CLASS, confidence_groundtruth, label_groundtruth, label_prediction)\n",
        "\n",
        "  # Calculate IoU between groundtruth and prediction box\n",
        "  existed_object_iou = get_existed_object_iou(confidence_groundtruth,\n",
        "                                              centerxy_groundtruth, widthheight_groundtruth,\n",
        "                                              centerxy_prediction, widthheight_prediction)\n",
        "  \n",
        "  # Calculate confidence loss\n",
        "  loss_confidence = calculate_loss_confidence(LAMBDA_OBJECT, LAMBDA_NO_OBJECT, existed_object_iou,\n",
        "                                              confidence_groundtruth, confidence_prediction)\n",
        "  \n",
        "  return loss_centerxywidthheight + loss_label + loss_confidence"
      ]
    },
    {
      "cell_type": "markdown",
      "source": [
        "Define the callbacks and loss function as well as optimizer and learning rate"
      ],
      "metadata": {
        "id": "cuwcY8KVbc2v"
      }
    },
    {
      "cell_type": "code",
      "execution_count": null,
      "metadata": {
        "id": "sDOQ5IvFLxDD"
      },
      "outputs": [],
      "source": [
        "early_stopping = EarlyStopping(monitor='loss', min_delta=1e-3, patience=4, verbose=1, mode='min')\n",
        "model_checkpoint = ModelCheckpoint(filepath=os.path.join(os.getcwd(), 'gdrive', 'My Drive', 'capstone_project', f'model-groundtruthbox{GROUNDTRUTH_BOX}-anchorboxes{ANCHOR_BOXES.tolist()}.h5'),\n",
        "                                   monitor='loss',\n",
        "                                   verbose=1,\n",
        "                                   save_best_only=True,\n",
        "                                   mode='min'\n",
        "                                   )\n",
        "\n",
        "model.compile(loss=custom_loss, optimizer=Adam(learning_rate=5e-5))"
      ]
    },
    {
      "cell_type": "markdown",
      "source": [
        "Training the model"
      ],
      "metadata": {
        "id": "M5PlXt1obR9W"
      }
    },
    {
      "cell_type": "code",
      "execution_count": null,
      "metadata": {
        "colab": {
          "base_uri": "https://localhost:8080/"
        },
        "id": "9qqi3Vt_LzbC",
        "outputId": "cf9c1ad3-6be8-4f7d-9570-4c910548e3ec"
      },
      "outputs": [
        {
          "output_type": "stream",
          "name": "stdout",
          "text": [
            "Epoch 1/50\n",
            "544/544 [==============================] - ETA: 0s - loss: 1.3286\n",
            "Epoch 1: loss improved from inf to 1.32857, saving model to /content/gdrive/My Drive/capstone_project/model-groundtruthbox20-anchorboxes[0.07095013, 0.13790466, 0.74620075, 0.8126473, 0.37125614, 0.65841728, 0.18252735, 0.41417845].h5\n",
            "544/544 [==============================] - 237s 400ms/step - loss: 1.3286 - val_loss: 0.8863\n",
            "Epoch 2/50\n",
            "544/544 [==============================] - ETA: 0s - loss: 0.6989\n",
            "Epoch 2: loss improved from 1.32857 to 0.69891, saving model to /content/gdrive/My Drive/capstone_project/model-groundtruthbox20-anchorboxes[0.07095013, 0.13790466, 0.74620075, 0.8126473, 0.37125614, 0.65841728, 0.18252735, 0.41417845].h5\n",
            "544/544 [==============================] - 231s 424ms/step - loss: 0.6989 - val_loss: 0.7310\n",
            "Epoch 3/50\n",
            "544/544 [==============================] - ETA: 0s - loss: 0.5326\n",
            "Epoch 3: loss improved from 0.69891 to 0.53263, saving model to /content/gdrive/My Drive/capstone_project/model-groundtruthbox20-anchorboxes[0.07095013, 0.13790466, 0.74620075, 0.8126473, 0.37125614, 0.65841728, 0.18252735, 0.41417845].h5\n",
            "544/544 [==============================] - 237s 435ms/step - loss: 0.5326 - val_loss: 0.6814\n",
            "Epoch 4/50\n",
            "544/544 [==============================] - ETA: 0s - loss: 0.4243\n",
            "Epoch 4: loss improved from 0.53263 to 0.42433, saving model to /content/gdrive/My Drive/capstone_project/model-groundtruthbox20-anchorboxes[0.07095013, 0.13790466, 0.74620075, 0.8126473, 0.37125614, 0.65841728, 0.18252735, 0.41417845].h5\n",
            "544/544 [==============================] - 237s 435ms/step - loss: 0.4243 - val_loss: 0.6733\n",
            "Epoch 5/50\n",
            "544/544 [==============================] - ETA: 0s - loss: 0.3640\n",
            "Epoch 5: loss improved from 0.42433 to 0.36405, saving model to /content/gdrive/My Drive/capstone_project/model-groundtruthbox20-anchorboxes[0.07095013, 0.13790466, 0.74620075, 0.8126473, 0.37125614, 0.65841728, 0.18252735, 0.41417845].h5\n",
            "544/544 [==============================] - 236s 433ms/step - loss: 0.3640 - val_loss: 0.6705\n",
            "Epoch 6/50\n",
            "544/544 [==============================] - ETA: 0s - loss: 0.2977\n",
            "Epoch 6: loss improved from 0.36405 to 0.29770, saving model to /content/gdrive/My Drive/capstone_project/model-groundtruthbox20-anchorboxes[0.07095013, 0.13790466, 0.74620075, 0.8126473, 0.37125614, 0.65841728, 0.18252735, 0.41417845].h5\n",
            "544/544 [==============================] - 237s 435ms/step - loss: 0.2977 - val_loss: 0.6072\n",
            "Epoch 7/50\n",
            "544/544 [==============================] - ETA: 0s - loss: 0.2596\n",
            "Epoch 7: loss improved from 0.29770 to 0.25962, saving model to /content/gdrive/My Drive/capstone_project/model-groundtruthbox20-anchorboxes[0.07095013, 0.13790466, 0.74620075, 0.8126473, 0.37125614, 0.65841728, 0.18252735, 0.41417845].h5\n",
            "544/544 [==============================] - 235s 432ms/step - loss: 0.2596 - val_loss: 0.6204\n",
            "Epoch 8/50\n",
            "544/544 [==============================] - ETA: 0s - loss: 0.2318\n",
            "Epoch 8: loss improved from 0.25962 to 0.23182, saving model to /content/gdrive/My Drive/capstone_project/model-groundtruthbox20-anchorboxes[0.07095013, 0.13790466, 0.74620075, 0.8126473, 0.37125614, 0.65841728, 0.18252735, 0.41417845].h5\n",
            "544/544 [==============================] - 230s 423ms/step - loss: 0.2318 - val_loss: 0.6153\n",
            "Epoch 9/50\n",
            "544/544 [==============================] - ETA: 0s - loss: 0.2195\n",
            "Epoch 9: loss improved from 0.23182 to 0.21949, saving model to /content/gdrive/My Drive/capstone_project/model-groundtruthbox20-anchorboxes[0.07095013, 0.13790466, 0.74620075, 0.8126473, 0.37125614, 0.65841728, 0.18252735, 0.41417845].h5\n",
            "544/544 [==============================] - 231s 424ms/step - loss: 0.2195 - val_loss: 0.6046\n",
            "Epoch 10/50\n",
            "544/544 [==============================] - ETA: 0s - loss: 0.2004\n",
            "Epoch 10: loss improved from 0.21949 to 0.20038, saving model to /content/gdrive/My Drive/capstone_project/model-groundtruthbox20-anchorboxes[0.07095013, 0.13790466, 0.74620075, 0.8126473, 0.37125614, 0.65841728, 0.18252735, 0.41417845].h5\n",
            "544/544 [==============================] - 231s 425ms/step - loss: 0.2004 - val_loss: 0.5949\n",
            "Epoch 11/50\n",
            "544/544 [==============================] - ETA: 0s - loss: 0.1847\n",
            "Epoch 11: loss improved from 0.20038 to 0.18468, saving model to /content/gdrive/My Drive/capstone_project/model-groundtruthbox20-anchorboxes[0.07095013, 0.13790466, 0.74620075, 0.8126473, 0.37125614, 0.65841728, 0.18252735, 0.41417845].h5\n",
            "544/544 [==============================] - 231s 423ms/step - loss: 0.1847 - val_loss: 0.6005\n",
            "Epoch 12/50\n",
            "218/544 [===========>..................] - ETA: 2:04 - loss: 0.1615"
          ]
        }
      ],
      "source": [
        "model.fit(train_batch_generator,\n",
        "          steps_per_epoch=len(train_batch_generator),\n",
        "          epochs=50,\n",
        "          callbacks=[early_stopping, model_checkpoint],\n",
        "          verbose=1,\n",
        "          validation_data=validation_batch_generator,\n",
        "          validation_steps=len(validation_batch_generator)\n",
        "          )"
      ]
    }
  ]
}